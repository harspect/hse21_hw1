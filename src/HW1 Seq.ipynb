{
 "cells": [
  {
   "cell_type": "markdown",
   "metadata": {},
   "source": [
    "Код для анализа полученных контигов\n",
    "общее кол-во контигов, их общая длина, длина самого длинного контига, N50"
   ]
  },
  {
   "cell_type": "code",
   "execution_count": 252,
   "metadata": {},
   "outputs": [],
   "source": [
    "import subprocess\n",
    "import os\n",
    "\n",
    "def analyse(file):\n",
    "    cnt = !grep \">\" -c $file;\n",
    "    cnt = int(cnt[0]);\n",
    "    total_len = !grep -v \">\" $file | tr -d '\\n' | wc -c;\n",
    "    total_len = int(total_len[0]);\n",
    "    lengths = !grep '>' $file;\n",
    "    nums = [];\n",
    "    for one in lengths:\n",
    "        i = one.find(\"len\");\n",
    "        num_st = \"\";\n",
    "        for j in range(i + 3, len(one)):\n",
    "            if one[j].isdigit():\n",
    "                num_st += one[j];\n",
    "            else:\n",
    "                break;\n",
    "        nums.append(int(num_st));\n",
    "    nums = sorted(nums);\n",
    "    longest_len = nums[-1];\n",
    "    cnt1 = 0;\n",
    "    for e in nums:\n",
    "        cnt1 += e;\n",
    "        if cnt1 >= total_len / 2:\n",
    "            n50 = e;\n",
    "            break;\n",
    "    print(f\"Общее кол-во: {cnt}\")\n",
    "    print(f\"Общая длина: {total_len}\")\n",
    "    print(f\"Самый длинный: {longest_len}\")\n",
    "    print(f\"N50: {n50}\")\n",
    "    \n",
    "#def do_comm(command):\n",
    "#    output = subprocess.check_output(command, shell=True).decode(\"utf-8\")\n",
    "#    print(output)"
   ]
  },
  {
   "cell_type": "code",
   "execution_count": 205,
   "metadata": {},
   "outputs": [
    {
     "name": "stdout",
     "output_type": "stream",
     "text": [
      "Общее кол-во: 620\n",
      "Общая длина: 3925016\n",
      "Самый длинный: 179307\n",
      "N50: 47611\n"
     ]
    }
   ],
   "source": [
    "analyse(\"contigs.fasta\")"
   ]
  },
  {
   "cell_type": "code",
   "execution_count": 253,
   "metadata": {},
   "outputs": [
    {
     "name": "stdout",
     "output_type": "stream",
     "text": [
      "Общее кол-во: 75\n",
      "Общая длина: 3875916\n",
      "Самый длинный: 3831886\n",
      "N50: 3831886\n"
     ]
    }
   ],
   "source": [
    "analyse(\"scaff_gaps.fasta\")"
   ]
  },
  {
   "cell_type": "markdown",
   "metadata": {},
   "source": [
    "Для самого длинного скаффолда посчитать количество гэпов (участков, состоящих из букв NNNN) и их общую длину"
   ]
  },
  {
   "cell_type": "code",
   "execution_count": 249,
   "metadata": {},
   "outputs": [],
   "source": [
    "def sec(file):\n",
    "    num = !grep -Ec 'N+' $file;\n",
    "    total = !grep -Eo 'N+' $file | tr -cd 'N' | wc -c;\n",
    "    print(f\"Кол-во: {num[0]}\");\n",
    "    print(f\"Общая длина: {int(total[0])}\");"
   ]
  },
  {
   "cell_type": "code",
   "execution_count": 250,
   "metadata": {},
   "outputs": [
    {
     "name": "stdout",
     "output_type": "stream",
     "text": [
      "Кол-во: 38\n",
      "Общая длина: 2139\n"
     ]
    }
   ],
   "source": [
    "sec(\"longest.fasta\")"
   ]
  },
  {
   "cell_type": "code",
   "execution_count": null,
   "metadata": {},
   "outputs": [],
   "source": []
  }
 ],
 "metadata": {
  "kernelspec": {
   "display_name": "Python 3",
   "language": "python",
   "name": "python3"
  },
  "language_info": {
   "codemirror_mode": {
    "name": "ipython",
    "version": 3
   },
   "file_extension": ".py",
   "mimetype": "text/x-python",
   "name": "python",
   "nbconvert_exporter": "python",
   "pygments_lexer": "ipython3",
   "version": "3.8.5"
  }
 },
 "nbformat": 4,
 "nbformat_minor": 4
}
